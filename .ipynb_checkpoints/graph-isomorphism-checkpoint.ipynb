{
 "cells": [
  {
   "cell_type": "markdown",
   "id": "5ef286b3",
   "metadata": {},
   "source": [
    "<h1>Graph Isomorphism</h1>\n",
    "<h2>Explanation of the Graph Isomorphism Problem</h2>\n",
    "\n",
    "<p>\n",
    "    <h4>Explaing the Componets of the Graph</h4><br>\n",
    "    Before jumping into the problem as a whole I feel its important to understand what each component that makes up the graph means. The first part is known as the <b>Vertices</b>, lets take a group of 7 friends for example, each individual friend will be one vertices, making a total of 7 in this case, this can be almost anything, components of a certain dinner, modules in a year or parts in a computer, but for this example we will call the Friends the vertices. The second part is the connection between the vertices, also known as <b>Edges</b> so in our example that would be the relationship between the friend group, for example one friend Jack would be friend with both Liam and Chris but they would not be friend with eachother, meaning one vertices (/Jack) would have two other vertices connected to it while the others would only have one connection, in this example of course. This also means that, Jack and Chris because they are connected the term used would be <b>adjacent</b>.\n",
    "    <h4>Isomorphic</h4><br>\n",
    "    I feel its almost important to understand the mean of Isomorphic. Isomorphic can be descibed as something that is the same both in reverse and inverse of itself. Meaning in our case, to be an isomorphic item, each graph would need the same amount of vertices, with the same edges. This does not mean that both graphs have to represent the same data, a graph describing a friend group can be isometric with a graph corresponding computer part, if the stars align in a certain way.\n",
    "</p>\n",
    "\n",
    "<h4>The Graph Isomorphism Problem</h4>\n",
    "<p>\n",
    "    The problem is to find a way to figure out in two graphs are isomorphic in a timely manner, but the main worry is can the problem be solved in polymonial time.\n",
    "</p>"
   ]
  },
  {
   "cell_type": "markdown",
   "id": "db3bd26e",
   "metadata": {},
   "source": [
    "<h2>Explanation of how graphs can be represented in data structures</h2>\n",
    "<p>\n",
    "    There are two main ways graphs are represented\n",
    "    <ul>\n",
    "        <li>Adjacency Matrix</li>\n",
    "        <li>Adjacency List</li>\n",
    "    </ul>\n",
    "</p>\n",
    "<p>\n",
    "    <h4>Adjacency Matrix</h4>\n",
    "    Adjacency Matrix are 2D arrays of size V x V where the V is the number of Vertices, for example, using the numbers from above, it would've been 7. Within the array there would be either a marking of 0 or 1, where 1 would be an indication that there is a connection between the vertices. If we take our examples from earlier, Jack would have a 1 in the array for both his friends Chris and Liam, where Liam and Chris intersection in the array would be marked with a 0\n",
    "    <h4>Adjacency List</h4>\n",
    "    Adjacency Lists are an array of Linked list instead, the array is the size V which is the vertices, each entry to the array is corresponding to the links a vertice has to that index. once again user our three friends as an example. We'll say  for convience, that Jack is vertices 1, Chris 2 and Liam 3, in a normal circumstance it would start with Jack on vertice 0 and so on, but html list start at one.\n",
    "    <ol>\n",
    "      <li>Jack -> 2 -> 3/</li>\n",
    "      <li>Chris -> 1/</li>\n",
    "      <li>Liam -1/</li>\n",
    "    </ol>\n",
    "    As we see here Jack has two connections since hes the middle friend, and the other two only connect to 1. This is a short example of course, in other cases you might have much more connections so things can get more complicated, but the main takeaway is the inserting the connections of each vertice like you would see them on the graph.\n",
    "</p>\n",
    "\n",
    "<h2>Python function implementing an algorithm to determine if two graphs are isomorphic.</h2>"
   ]
  },
  {
   "cell_type": "code",
   "execution_count": null,
   "id": "ee98ed83",
   "metadata": {},
   "outputs": [],
   "source": []
  },
  {
   "cell_type": "markdown",
   "id": "73aecf23",
   "metadata": {},
   "source": [
    "<h1>References</h1>\n",
    "<p>\n",
    "    https://en.wikipedia.org/wiki/Graph_isomorphism_problem <br><br>\n",
    "    https://www.youtube.com/watch?v=rOTXqBBMFxc&t=302s <br><br>\n",
    "    https://www.geeksforgeeks.org/graph-and-its-representations/ <br>\n",
    "    \n",
    "</p>"
   ]
  },
  {
   "cell_type": "code",
   "execution_count": null,
   "id": "7ebced94",
   "metadata": {},
   "outputs": [],
   "source": []
  }
 ],
 "metadata": {
  "kernelspec": {
   "display_name": "Python 3 (ipykernel)",
   "language": "python",
   "name": "python3"
  },
  "language_info": {
   "codemirror_mode": {
    "name": "ipython",
    "version": 3
   },
   "file_extension": ".py",
   "mimetype": "text/x-python",
   "name": "python",
   "nbconvert_exporter": "python",
   "pygments_lexer": "ipython3",
   "version": "3.9.7"
  }
 },
 "nbformat": 4,
 "nbformat_minor": 5
}
