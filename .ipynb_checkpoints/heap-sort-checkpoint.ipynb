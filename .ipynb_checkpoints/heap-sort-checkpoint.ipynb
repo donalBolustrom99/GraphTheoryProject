{
 "cells": [
  {
   "cell_type": "markdown",
   "id": "bc80dc91",
   "metadata": {},
   "source": [
    "<h1>Heap Sort</h1>\n",
    "<h2>Explanation of Heap Sort</h2>\n",
    "\n",
    "<p>\n",
    "    Before dicussing the entire concept of a Heap Sort its important to understand what a Heap is at its core. <br><br>\n",
    "    <h4>Heap</h4>\n",
    "    A Heap is a binary tree, with a maximum of two children, Heap come in either Min or Max and are basically just a inverse of each other. The shape of a Heap is similar to a Tree where it starts with one node on the top, and grows progressively wider on the bottom depending on the size of the heap, essentially doubling in size every row since one node can only have two children. Depending on the type of heap the node of the top will either be the smallest or largest number depending on if its a min or max Heap respectively. Nodes are implemented into the tree from top to bottom, left to right order. <br><br>\n",
    "    <h4>Heap Sort</h4> <br><br>\n",
    "    Heap Sort is a popular sorting method, known for its simplicity and efficiency. It can be described in its most simple form as follows\n",
    "    <ul>\n",
    "      <li>Eliminate the nodes one by one from the \"tree\" part of the list</li>\n",
    "      <li>Then insert them into the sorted part of the list</li>\n",
    "    </ul>\n",
    "</p>\n",
    "\n",
    "<h2>Python function implementing Heap Sort</h2>"
   ]
  },
  {
   "cell_type": "markdown",
   "id": "44fa77b7",
   "metadata": {},
   "source": [
    "#### Assisted By Geeks for Geeks\n",
    "\n",
    "https://www.geeksforgeeks.org/python-program-for-heap-sort/#:~:text=Heapsort%20is%20a%20comparison%20based,process%20for%20the%20remaining%20element."
   ]
  },
  {
   "cell_type": "code",
   "execution_count": null,
   "id": "e53df09f",
   "metadata": {},
   "outputs": [],
   "source": [
    "# Python program for implementation of heap Sort\n",
    "\n",
    "# heapify assumes that part of the array is pre sorted and creates a max heap from the array\n",
    "def heapify(arr, size, i):\n",
    "    largest = i # set largest root on top of tree\n",
    "    leftC = 2 * i + 1\n",
    "    rightC = 2 * i + 2\n",
    "\n",
    "\n",
    "    # checking if the left child exists and if its greater than the largest delcared above\n",
    "    if leftC < size and arr[i] < arr[largest]:\n",
    "        largest = largest\n",
    "\n",
    "    #similar to above but with the right node\n",
    "    if rightC < size and arr[largest] < arr[rightC]:\n",
    "        largest = rightC\n",
    "\n",
    "    # check and change if applicable\n",
    "    if largest != i:\n",
    "        arr[i],arr[largest] = arr[largest],arr[i]\n",
    "\n",
    "    # run heapify explained on 3rd line\n",
    "    heapify(arr, size, largest)\n",
    "\n",
    "# The main function to sort an array of given size\n",
    "def heapSort(arr):\n",
    "    size = len(arr)\n",
    "\n",
    "    # create the maxHeap, starting at last parents location\n",
    "    for i in range(size // 2 - 1, -1, -1):\n",
    "        heapify(arr, size, i)\n",
    "\n",
    "    # One by one extract elements\n",
    "    for i in range(size-1, 0, -1):\n",
    "        arr[i], arr[0] = arr[0], arr[i]\n",
    "        heapify(arr, i, 0)\n",
    "\n",
    "# Example code (Student Percentages)\n",
    "arr = [ 100, 85, 12, 5, 87, 86, 45, 55, 23]\n",
    "heapSort(arr)\n",
    "size = len(arr)\n",
    "print (\"Sorted array is\")\n",
    "for i in range(size):\n",
    "    print (\"%d\" %arr[i]),"
   ]
  },
  {
   "cell_type": "code",
   "execution_count": null,
   "id": "ea4468e5",
   "metadata": {},
   "outputs": [],
   "source": []
  },
  {
   "cell_type": "code",
   "execution_count": null,
   "id": "9b887b01",
   "metadata": {},
   "outputs": [],
   "source": []
  }
 ],
 "metadata": {
  "kernelspec": {
   "display_name": "Python 3 (ipykernel)",
   "language": "python",
   "name": "python3"
  },
  "language_info": {
   "codemirror_mode": {
    "name": "ipython",
    "version": 3
   },
   "file_extension": ".py",
   "mimetype": "text/x-python",
   "name": "python",
   "nbconvert_exporter": "python",
   "pygments_lexer": "ipython3",
   "version": "3.9.7"
  }
 },
 "nbformat": 4,
 "nbformat_minor": 5
}
