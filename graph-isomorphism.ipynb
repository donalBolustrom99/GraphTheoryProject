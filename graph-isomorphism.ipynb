{
 "cells": [
  {
   "cell_type": "markdown",
   "id": "5ef286b3",
   "metadata": {},
   "source": [
    "<h1>Graph Isomorphism</h1>\n",
    "<h2>Explanation of the Graph Isomorphism Problem</h2>\n",
    "\n",
    "<p>\n",
    "    <h4>Explaing the Componets of the Graph</h4><br>\n",
    "    Before jumping into the problem as a whole I feel its important to understand what each component that makes up the graph means. The first part is known as the <b>Vertices</b>, lets take a group of 7 friends for example, each individual friend will be one vertices, making a total of 7 in this case, this can be almost anything, components of a certain dinner, modules in a year or parts in a computer, but for this example we will call the Friends the vertices. The second part is the connection between the vertices, also known as <b>Edges</b> so in our example that would be the relationship between the friend group, for example one friend Jack would be friend with both Liam and Chris but they would not be friend with eachother, meaning one vertices (/Jack) would have two other vertices connected to it while the others would only have one connection, in this example of course. This also means that, Jack and Chris because they are connected the term used would be <b>adjacent</b>.\n",
    "    <h4>Isomorphic</h4><br>\n",
    "    I feel its almost important to understand the mean of Isomorphic. Isomorphic can be descibed as something that is the same both in reverse and inverse of itself. Meaning in our case, to be an isomorphic item, each graph would need the same amount of vertices, with the same edges. This does not mean that both graphs have to represent the same data, a graph describing a friend group can be isometric with a graph corresponding computer part, if the stars align in a certain way.\n",
    "</p>\n",
    "\n",
    "<h4>The Graph Isomorphism Problem</h4>\n",
    "<p>\n",
    "    The problem is to find a way to figure out in two graphs are isomorphic in a timely manner.\n",
    "</p>\n",
    "    \n",
    "\n",
    "<h2></h2>"
   ]
  },
  {
   "cell_type": "code",
   "execution_count": null,
   "id": "1432eaf5",
   "metadata": {},
   "outputs": [],
   "source": []
  }
 ],
 "metadata": {
  "kernelspec": {
   "display_name": "Python 3 (ipykernel)",
   "language": "python",
   "name": "python3"
  },
  "language_info": {
   "codemirror_mode": {
    "name": "ipython",
    "version": 3
   },
   "file_extension": ".py",
   "mimetype": "text/x-python",
   "name": "python",
   "nbconvert_exporter": "python",
   "pygments_lexer": "ipython3",
   "version": "3.9.7"
  }
 },
 "nbformat": 4,
 "nbformat_minor": 5
}
